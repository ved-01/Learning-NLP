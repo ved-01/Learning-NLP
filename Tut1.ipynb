{
  "nbformat": 4,
  "nbformat_minor": 0,
  "metadata": {
    "colab": {
      "provenance": [],
      "authorship_tag": "ABX9TyNaCcNZ83ujs9CCOlro60U0",
      "include_colab_link": true
    },
    "kernelspec": {
      "name": "python3",
      "display_name": "Python 3"
    },
    "language_info": {
      "name": "python"
    }
  },
  "cells": [
    {
      "cell_type": "markdown",
      "metadata": {
        "id": "view-in-github",
        "colab_type": "text"
      },
      "source": [
        "<a href=\"https://colab.research.google.com/github/ved-01/Learning-NLP/blob/main/Tut1.ipynb\" target=\"_parent\"><img src=\"https://colab.research.google.com/assets/colab-badge.svg\" alt=\"Open In Colab\"/></a>"
      ]
    },
    {
      "cell_type": "code",
      "source": [
        "pip install PyPDF2"
      ],
      "metadata": {
        "colab": {
          "base_uri": "https://localhost:8080/"
        },
        "id": "DC3swwfqPUjP",
        "outputId": "d14ec20f-ac9f-45a2-c84b-d3523c695de2"
      },
      "execution_count": null,
      "outputs": [
        {
          "output_type": "stream",
          "name": "stdout",
          "text": [
            "Looking in indexes: https://pypi.org/simple, https://us-python.pkg.dev/colab-wheels/public/simple/\n",
            "Collecting PyPDF2\n",
            "  Downloading pypdf2-3.0.1-py3-none-any.whl (232 kB)\n",
            "\u001b[2K     \u001b[90m━━━━━━━━━━━━━━━━━━━━━━━━━━━━━━━━━━━━━━━\u001b[0m \u001b[32m232.6/232.6 kB\u001b[0m \u001b[31m9.1 MB/s\u001b[0m eta \u001b[36m0:00:00\u001b[0m\n",
            "\u001b[?25hInstalling collected packages: PyPDF2\n",
            "Successfully installed PyPDF2-3.0.1\n"
          ]
        }
      ]
    },
    {
      "cell_type": "code",
      "source": [
        "from PyPDF2 import PdfReader\n",
        "\n",
        "def extract_text_from_pdf(pdf_path):\n",
        "    text = \"\"\n",
        "    \n",
        "    with open(pdf_path, 'rb') as file:\n",
        "        reader = PdfReader(file)\n",
        "        \n",
        "        for page in reader.pages:\n",
        "            text += page.extract_text()\n",
        "    \n",
        "    return text\n",
        "\n",
        "# Provide the path to your PDF file\n",
        "pdf_file_path = \"/content/josaa-cutoff.xlsx\"\n",
        "\n",
        "# Extract text from the PDF file\n",
        "extracted_text = extract_text_from_pdf(pdf_file_path)\n",
        "\n",
        "# Provide the path for the output text file\n",
        "output_file_path = \"/content/output.txt\"\n",
        "\n",
        "# Export the extracted text to the output file\n",
        "with open(output_file_path, 'w', encoding='utf-8') as file:\n",
        "    file.write(extracted_text)\n",
        "\n",
        "print(\"Text has been exported to:\", output_file_path)\n"
      ],
      "metadata": {
        "colab": {
          "base_uri": "https://localhost:8080/"
        },
        "id": "_tusYGU7PERS",
        "outputId": "78ab3067-07fa-4182-bf2b-7c7f34f23894"
      },
      "execution_count": null,
      "outputs": [
        {
          "output_type": "stream",
          "name": "stdout",
          "text": [
            "Text has been exported to: /content/output.txt\n"
          ]
        }
      ]
    },
    {
      "cell_type": "code",
      "source": [
        "import pandas as pd\n",
        "\n",
        "# Provide the path to your Excel file\n",
        "excel_file_path = \"/content/josaa-iits.xlsx\"\n",
        "\n",
        "# Read the Excel file into a pandas DataFrame\n",
        "data_frame = pd.read_excel(excel_file_path)\n",
        "\n",
        "# Convert the DataFrame to a string\n",
        "data_string = data_frame.to_string(index=False)\n",
        "\n",
        "# Provide the path for the output text file\n",
        "output_file_path = \"/content/output.txt\"\n",
        "\n",
        "# Export the data to the output text file\n",
        "with open(output_file_path, 'w', encoding='utf-8') as file:\n",
        "    file.write(data_string)\n",
        "\n",
        "print(\"Data has been exported to:\", output_file_path)\n"
      ],
      "metadata": {
        "colab": {
          "base_uri": "https://localhost:8080/"
        },
        "id": "Ou3YmFlGUI5W",
        "outputId": "e68b962c-7320-4425-ef58-ee446828b9f2"
      },
      "execution_count": 3,
      "outputs": [
        {
          "output_type": "stream",
          "name": "stdout",
          "text": [
            "Data has been exported to: /content/output.txt\n"
          ]
        }
      ]
    }
  ]
}